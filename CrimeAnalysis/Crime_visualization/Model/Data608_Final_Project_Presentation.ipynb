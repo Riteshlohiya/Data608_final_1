{
 "cells": [
  {
   "cell_type": "markdown",
   "metadata": {},
   "source": [
    "# Data608 Final Project Proposal\n",
    "### By Ritesh Lohiya"
   ]
  },
  {
   "cell_type": "markdown",
   "metadata": {},
   "source": [
    "### CRIMES IN THE CITY OF CHICAGO"
   ]
  },
  {
   "cell_type": "markdown",
   "metadata": {},
   "source": [
    "### Introduction:"
   ]
  },
  {
   "cell_type": "markdown",
   "metadata": {},
   "source": [
    "My visualization presents the crimes committed in the City of Chicago from 2012 to 2016.\n",
    "\n",
    "My visualization shows an overview of crimes committed in the City of Chicago from 2012 to 2016, including trends of crime over years, type of crimes committed most, geographic distribution of crimes committed categorized by types. In general, it gives a objective visual representation of crimes took place in past few years from different perspectives. "
   ]
  },
  {
   "cell_type": "markdown",
   "metadata": {},
   "source": [
    "### Data Source:"
   ]
  },
  {
   "cell_type": "markdown",
   "metadata": {},
   "source": [
    "I have used the data from Kaggle. \n",
    "\n",
    "https://www.kaggle.com/vic666/chicago-crimes-2012-to-2017"
   ]
  },
  {
   "cell_type": "markdown",
   "metadata": {},
   "source": [
    "### Data Attributes:"
   ]
  },
  {
   "cell_type": "markdown",
   "metadata": {},
   "source": [
    "ID                             \n",
    "Case Number                         \n",
    "Date                       \n",
    "Block                   \n",
    "IUCR                      \n",
    "Primary Type                 \n",
    "Description                \n",
    "Location Description                  \n",
    "Arrest                     \n",
    "Domestic                \n",
    "Beat                \n",
    "District                  \n",
    "Ward                     \n",
    "Community Area                       \n",
    "FBI Code                     \n",
    "X Coordinate                \n",
    "Y Coordinate                    \n",
    "Year                         \n",
    "Updated On                 \n",
    "Latitude               \n",
    "Longitude                  \n",
    "Location"
   ]
  },
  {
   "cell_type": "markdown",
   "metadata": {},
   "source": [
    "### Visualization:"
   ]
  },
  {
   "cell_type": "markdown",
   "metadata": {},
   "source": [
    "I used JavaScript and libraries to create visualization for this project.  "
   ]
  },
  {
   "cell_type": "markdown",
   "metadata": {},
   "source": [
    "Total crimes by year:                                                  \n",
    "This graph will give the readers a concept on the total crimes happened in each year from 2012 till 2016."
   ]
  },
  {
   "cell_type": "markdown",
   "metadata": {},
   "source": [
    "Crimes by AM and PM:                                                             \n",
    "This graph will give the readers total crimes happened in AM and PM for each year from 2012 till 2016."
   ]
  },
  {
   "cell_type": "markdown",
   "metadata": {},
   "source": [
    "Crimes by weekdays and weekends:                                                             \n",
    "This graph will give the readers total crimes happened in weekdays and weekends for each year from 2012 till 2016."
   ]
  },
  {
   "cell_type": "markdown",
   "metadata": {},
   "source": [
    "Arrested and Not Arrested:                                                                                  \n",
    "Information about the proportion of how many were arrested and not-arrested."
   ]
  },
  {
   "cell_type": "markdown",
   "metadata": {},
   "source": [
    "Domestic crime and non Domestic crimes:                                          \n",
    "Information about the proportion of how many crimes where domestic and non-domestic."
   ]
  },
  {
   "cell_type": "markdown",
   "metadata": {},
   "source": [
    "Crime types per year:                                                                         \n",
    "This graph will give the readers a concept on the types of crimes for each year from 2012 till 2016."
   ]
  },
  {
   "cell_type": "markdown",
   "metadata": {},
   "source": [
    "Crime by location:                                                                          \n",
    "This visualization will indicate the number of crimes happened at that location."
   ]
  },
  {
   "cell_type": "markdown",
   "metadata": {},
   "source": [
    "Overall Crime per months:                                      \n",
    "Give users a clear view on how many crimes have been committed within that months."
   ]
  }
 ],
 "metadata": {
  "kernelspec": {
   "display_name": "Python 3",
   "language": "python",
   "name": "python3"
  },
  "language_info": {
   "codemirror_mode": {
    "name": "ipython",
    "version": 3
   },
   "file_extension": ".py",
   "mimetype": "text/x-python",
   "name": "python",
   "nbconvert_exporter": "python",
   "pygments_lexer": "ipython3",
   "version": "3.7.4"
  }
 },
 "nbformat": 4,
 "nbformat_minor": 2
}
