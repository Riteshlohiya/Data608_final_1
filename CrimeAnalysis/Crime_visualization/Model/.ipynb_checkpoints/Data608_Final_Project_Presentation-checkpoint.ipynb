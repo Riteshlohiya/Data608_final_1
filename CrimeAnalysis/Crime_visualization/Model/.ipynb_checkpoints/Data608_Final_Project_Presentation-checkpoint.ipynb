{
 "cells": [
  {
   "cell_type": "markdown",
   "metadata": {},
   "source": [
    "# Data608 Final Project Proposal\n",
    "### By Ritesh Lohiya"
   ]
  },
  {
   "cell_type": "markdown",
   "metadata": {},
   "source": [
    "### CRIMES IN THE CITY OF CHICAGO"
   ]
  },
  {
   "cell_type": "markdown",
   "metadata": {},
   "source": [
    "### Introduction:"
   ]
  },
  {
   "cell_type": "markdown",
   "metadata": {},
   "source": [
    "I am going to present the crimes committed in the City of Chicago from 2012 to 2017.\n",
    "\n",
    "My dashboard will show an overview of crimes committed in the City of Chicago from 2012 to 2017, including trends of crime over years, type of crimes committed most, geographic distribution of crimes committed categorized by types. In general, it will give a objective visual representation of crimes took place in past few years from different perspectives. "
   ]
  },
  {
   "cell_type": "markdown",
   "metadata": {},
   "source": [
    "### Data Source:"
   ]
  },
  {
   "cell_type": "markdown",
   "metadata": {},
   "source": [
    "I have identified the data from Kaggle. \n",
    "\n",
    "https://www.kaggle.com/vic666/chicago-crimes-2012-to-2017"
   ]
  },
  {
   "cell_type": "markdown",
   "metadata": {},
   "source": [
    "### Data Attributes:"
   ]
  },
  {
   "cell_type": "markdown",
   "metadata": {},
   "source": [
    "ID                             \n",
    "Case Number                         \n",
    "Date                       \n",
    "Block                   \n",
    "IUCR                      \n",
    "Primary Type                 \n",
    "Description                \n",
    "Location Description                  \n",
    "Arrest                     \n",
    "Domestic                \n",
    "Beat                \n",
    "District                  \n",
    "Ward                     \n",
    "Community Area                       \n",
    "FBI Code                     \n",
    "X Coordinate                \n",
    "Y Coordinate                    \n",
    "Year                         \n",
    "Updated On                 \n",
    "Latitude               \n",
    "Longitude                  \n",
    "Location"
   ]
  },
  {
   "cell_type": "markdown",
   "metadata": {},
   "source": [
    "### Visualization:"
   ]
  },
  {
   "cell_type": "markdown",
   "metadata": {},
   "source": [
    "I will be using JavaScript and libraries to create visualization for this project.  "
   ]
  },
  {
   "cell_type": "markdown",
   "metadata": {},
   "source": [
    "Crime trends based on type and month of the year:                                                  \n",
    "This graph will give the readers a concept on the month of years when the number of certain type of crimes increased or decreased. "
   ]
  },
  {
   "cell_type": "markdown",
   "metadata": {},
   "source": [
    "Crime Map:                                             \n",
    "Geographic data positioned in the map that will indicate the number of crimes happened near that position."
   ]
  },
  {
   "cell_type": "markdown",
   "metadata": {},
   "source": [
    "Domestic crime and non Domestic crimes:                                          \n",
    "Information about the proportion of how many crimes where domestic and non-domestic."
   ]
  },
  {
   "cell_type": "markdown",
   "metadata": {},
   "source": [
    "Overall Crime timelines:                                      \n",
    "Give users a clear view on how many crimes have been committed within that time period."
   ]
  },
  {
   "cell_type": "code",
   "execution_count": null,
   "metadata": {},
   "outputs": [],
   "source": []
  }
 ],
 "metadata": {
  "kernelspec": {
   "display_name": "Python 3",
   "language": "python",
   "name": "python3"
  },
  "language_info": {
   "codemirror_mode": {
    "name": "ipython",
    "version": 3
   },
   "file_extension": ".py",
   "mimetype": "text/x-python",
   "name": "python",
   "nbconvert_exporter": "python",
   "pygments_lexer": "ipython3",
   "version": "3.7.4"
  }
 },
 "nbformat": 4,
 "nbformat_minor": 2
}
